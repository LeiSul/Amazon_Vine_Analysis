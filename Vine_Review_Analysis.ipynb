{
  "nbformat": 4,
  "nbformat_minor": 0,
  "metadata": {
    "colab": {
      "name": "Vine_Review_Analysis.ipynb",
      "provenance": []
    },
    "kernelspec": {
      "name": "python3",
      "display_name": "Python 3"
    },
    "language_info": {
      "name": "python"
    }
  },
  "cells": [
    {
      "cell_type": "code",
      "execution_count": 1,
      "metadata": {
        "colab": {
          "base_uri": "https://localhost:8080/"
        },
        "id": "TBD27gbEAKhG",
        "outputId": "584effeb-f0c5-40b6-c4ef-10ae89964816"
      },
      "outputs": [
        {
          "output_type": "stream",
          "name": "stdout",
          "text": [
            "\r0% [Working]\r            \rHit:1 https://developer.download.nvidia.com/compute/cuda/repos/ubuntu1804/x86_64  InRelease\n",
            "\r0% [Connecting to archive.ubuntu.com (185.125.190.36)] [Waiting for headers] [W\r0% [1 InRelease gpgv 1,581 B] [Connecting to archive.ubuntu.com (185.125.190.36\r                                                                               \rGet:2 https://cloud.r-project.org/bin/linux/ubuntu bionic-cran40/ InRelease [3,626 B]\n",
            "\r0% [1 InRelease gpgv 1,581 B] [Waiting for headers] [Waiting for headers] [2 In\r0% [1 InRelease gpgv 1,581 B] [Waiting for headers] [Waiting for headers] [Wait\r                                                                               \rGet:3 http://security.ubuntu.com/ubuntu bionic-security InRelease [88.7 kB]\n",
            "Hit:4 http://ppa.launchpad.net/c2d4u.team/c2d4u4.0+/ubuntu bionic InRelease\n",
            "Hit:5 http://archive.ubuntu.com/ubuntu bionic InRelease\n",
            "Get:6 http://archive.ubuntu.com/ubuntu bionic-updates InRelease [88.7 kB]\n",
            "Ign:7 https://developer.download.nvidia.com/compute/machine-learning/repos/ubuntu1804/x86_64  InRelease\n",
            "Hit:8 https://developer.download.nvidia.com/compute/machine-learning/repos/ubuntu1804/x86_64  Release\n",
            "Hit:9 http://ppa.launchpad.net/cran/libgit2/ubuntu bionic InRelease\n",
            "Hit:10 http://ppa.launchpad.net/deadsnakes/ppa/ubuntu bionic InRelease\n",
            "Get:11 http://archive.ubuntu.com/ubuntu bionic-backports InRelease [74.6 kB]\n",
            "Hit:12 http://ppa.launchpad.net/graphics-drivers/ppa/ubuntu bionic InRelease\n",
            "Get:14 http://security.ubuntu.com/ubuntu bionic-security/restricted amd64 Packages [1,006 kB]\n",
            "Get:15 http://archive.ubuntu.com/ubuntu bionic-updates/main amd64 Packages [3,294 kB]\n",
            "Get:16 http://security.ubuntu.com/ubuntu bionic-security/multiverse amd64 Packages [22.8 kB]\n",
            "Get:17 http://security.ubuntu.com/ubuntu bionic-security/main amd64 Packages [2,861 kB]\n",
            "Get:18 http://security.ubuntu.com/ubuntu bionic-security/universe amd64 Packages [1,521 kB]\n",
            "Get:19 http://archive.ubuntu.com/ubuntu bionic-updates/universe amd64 Packages [2,297 kB]\n",
            "Get:20 http://archive.ubuntu.com/ubuntu bionic-updates/restricted amd64 Packages [1,040 kB]\n",
            "Get:21 http://archive.ubuntu.com/ubuntu bionic-updates/multiverse amd64 Packages [29.8 kB]\n",
            "Get:22 http://archive.ubuntu.com/ubuntu bionic-backports/main amd64 Packages [12.2 kB]\n",
            "Fetched 12.3 MB in 4s (3,505 kB/s)\n",
            "Reading package lists... Done\n"
          ]
        }
      ],
      "source": [
        "import os\n",
        "# Find the latest version of spark 3.0  from http://www.apache.org/dist/spark/ and enter as the spark version\n",
        "# For example:\n",
        "# spark_version = 'spark-3.0.3'\n",
        "spark_version = 'spark-3.2.1'\n",
        "os.environ['SPARK_VERSION']=spark_version\n",
        "# Install Spark and Java\n",
        "!apt-get update\n",
        "!apt-get install openjdk-11-jdk-headless -qq > /dev/null\n",
        "!wget -q http://www.apache.org/dist/spark/$SPARK_VERSION/$SPARK_VERSION-bin-hadoop2.7.tgz\n",
        "!tar xf $SPARK_VERSION-bin-hadoop2.7.tgz\n",
        "!pip install -q findspark\n",
        "# Set Environment Variables\n",
        "import os\n",
        "os.environ[\"JAVA_HOME\"] = \"/usr/lib/jvm/java-11-openjdk-amd64\"\n",
        "os.environ[\"SPARK_HOME\"] = f\"/content/{spark_version}-bin-hadoop2.7\"\n",
        "# Start a SparkSession\n",
        "import findspark\n",
        "findspark.init()"
      ]
    },
    {
      "cell_type": "code",
      "source": [
        "# Download the Postgres driver that will allow Spark to interact with Postgres.\n",
        "!wget https://jdbc.postgresql.org/download/postgresql-42.2.16.jar"
      ],
      "metadata": {
        "colab": {
          "base_uri": "https://localhost:8080/"
        },
        "id": "rtIPFyOFAgEy",
        "outputId": "44987543-49a2-4348-cfc9-cae2ed259157"
      },
      "execution_count": 2,
      "outputs": [
        {
          "output_type": "stream",
          "name": "stdout",
          "text": [
            "--2022-06-18 17:15:13--  https://jdbc.postgresql.org/download/postgresql-42.2.16.jar\n",
            "Resolving jdbc.postgresql.org (jdbc.postgresql.org)... 72.32.157.228, 2001:4800:3e1:1::228\n",
            "Connecting to jdbc.postgresql.org (jdbc.postgresql.org)|72.32.157.228|:443... connected.\n",
            "HTTP request sent, awaiting response... 200 OK\n",
            "Length: 1002883 (979K) [application/java-archive]\n",
            "Saving to: ‘postgresql-42.2.16.jar’\n",
            "\n",
            "postgresql-42.2.16. 100%[===================>] 979.38K  --.-KB/s    in 0.1s    \n",
            "\n",
            "2022-06-18 17:15:14 (6.60 MB/s) - ‘postgresql-42.2.16.jar’ saved [1002883/1002883]\n",
            "\n"
          ]
        }
      ]
    },
    {
      "cell_type": "code",
      "source": [
        "from pyspark.sql import SparkSession\n",
        "spark = SparkSession.builder.appName(\"M16-Amazon-Challenge\").config(\"spark.driver.extraClassPath\",\"/content/postgresql-42.2.16.jar\").getOrCreate()"
      ],
      "metadata": {
        "id": "tBf8JavAAi91"
      },
      "execution_count": 3,
      "outputs": []
    },
    {
      "cell_type": "code",
      "source": [
        "from pyspark import SparkFiles\n",
        "url = \"https://s3.amazonaws.com/amazon-reviews-pds/tsv/amazon_reviews_us_Health_Personal_Care_v1_00.tsv.gz\"\n",
        "spark.sparkContext.addFile(url)\n",
        "df = spark.read.option(\"encoding\", \"UTF-8\").csv(SparkFiles.get(\"\"), sep=\"\\t\", header=True, inferSchema=True)\n",
        "df.show(5)"
      ],
      "metadata": {
        "colab": {
          "base_uri": "https://localhost:8080/"
        },
        "id": "U4ujskSBArET",
        "outputId": "006cbdfb-4fcd-49d9-eda1-21456e216423"
      },
      "execution_count": 4,
      "outputs": [
        {
          "output_type": "stream",
          "name": "stdout",
          "text": [
            "+-----------+-----------+--------------+----------+--------------+--------------------+--------------------+-----------+-------------+-----------+----+-----------------+--------------------+--------------------+-----------+\n",
            "|marketplace|customer_id|     review_id|product_id|product_parent|       product_title|    product_category|star_rating|helpful_votes|total_votes|vine|verified_purchase|     review_headline|         review_body|review_date|\n",
            "+-----------+-----------+--------------+----------+--------------+--------------------+--------------------+-----------+-------------+-----------+----+-----------------+--------------------+--------------------+-----------+\n",
            "|         US|     650634| R3EQSTM9PWRAL|B0091LBZSU|     578484426|Demograss Capsule...|Health & Personal...|          3|            0|          0|   N|                Y|         Three Stars|Only came with 30...| 2015-08-31|\n",
            "|         US|   19827510| RBWPRK17XKIXD|B00PWW3LQ6|     456433146|Viva Labs #1 Prem...|Health & Personal...|          5|            0|          0|   N|                Y|A good portable s...|Really yummy and ...| 2015-08-31|\n",
            "|         US|    1520474| RRSLOAF273XFC|B00DKEWA92|     460764511|     Whip-it Cleaner|Health & Personal...|          5|            1|          2|   N|                Y|       You need this|You cannot go wro...| 2015-08-31|\n",
            "|         US|   23905905|R3S8W9Q6SWIT8O|B0015R3A7M|     135102038|Optimum Nutrition...|Health & Personal...|          4|            0|          0|   N|                Y|this is a good vi...|This is a good da...| 2015-08-31|\n",
            "|         US|   28215779|R3QQ6NSLRVBFJC|B006B8U8BG|     200666829|Wet-Stop3 Bedwett...|Health & Personal...|          4|            0|          0|   N|                Y|progress is defin...|We have been usin...| 2015-08-31|\n",
            "+-----------+-----------+--------------+----------+--------------+--------------------+--------------------+-----------+-------------+-----------+----+-----------------+--------------------+--------------------+-----------+\n",
            "only showing top 5 rows\n",
            "\n"
          ]
        }
      ]
    },
    {
      "cell_type": "code",
      "source": [
        "vine_table_df = df.select([\"review_id\", \"star_rating\", \"helpful_votes\", \"total_votes\", \"vine\", \"verified_purchase\"])\n",
        "vine_table_df.show(5)"
      ],
      "metadata": {
        "colab": {
          "base_uri": "https://localhost:8080/"
        },
        "id": "YX7ikLimBqZD",
        "outputId": "57520312-4d7e-484b-e5ca-d425bc720ba9"
      },
      "execution_count": 5,
      "outputs": [
        {
          "output_type": "stream",
          "name": "stdout",
          "text": [
            "+--------------+-----------+-------------+-----------+----+-----------------+\n",
            "|     review_id|star_rating|helpful_votes|total_votes|vine|verified_purchase|\n",
            "+--------------+-----------+-------------+-----------+----+-----------------+\n",
            "| R3EQSTM9PWRAL|          3|            0|          0|   N|                Y|\n",
            "| RBWPRK17XKIXD|          5|            0|          0|   N|                Y|\n",
            "| RRSLOAF273XFC|          5|            1|          2|   N|                Y|\n",
            "|R3S8W9Q6SWIT8O|          4|            0|          0|   N|                Y|\n",
            "|R3QQ6NSLRVBFJC|          4|            0|          0|   N|                Y|\n",
            "+--------------+-----------+-------------+-----------+----+-----------------+\n",
            "only showing top 5 rows\n",
            "\n"
          ]
        }
      ]
    },
    {
      "cell_type": "code",
      "source": [
        "total_vine_votes = vine_table_df.filter(\"total_votes>=20\")\n",
        "total_vine_votes.show()"
      ],
      "metadata": {
        "colab": {
          "base_uri": "https://localhost:8080/"
        },
        "id": "xE5q_c93Du6X",
        "outputId": "622fd323-ae9e-4ba0-c2b9-26b9842e22bb"
      },
      "execution_count": 6,
      "outputs": [
        {
          "output_type": "stream",
          "name": "stdout",
          "text": [
            "+--------------+-----------+-------------+-----------+----+-----------------+\n",
            "|     review_id|star_rating|helpful_votes|total_votes|vine|verified_purchase|\n",
            "+--------------+-----------+-------------+-----------+----+-----------------+\n",
            "|R2984F9VD9WDJB|          1|           37|         46|   N|                Y|\n",
            "|R218TGWCIAZYNY|          5|          191|        198|   N|                Y|\n",
            "| RGC2TLSBHLPZA|          5|           49|         50|   N|                Y|\n",
            "|R2YYVOW2RYGRM8|          5|           27|         28|   N|                Y|\n",
            "|R2X4WF89XICSB2|          1|           21|         21|   N|                Y|\n",
            "|R1M1KJ4SQE4INF|          5|           20|         21|   N|                N|\n",
            "|R1M8EEGH2TVS0Q|          1|            6|         29|   N|                Y|\n",
            "| RK8MUEWEUGV6V|          4|          105|        113|   N|                N|\n",
            "|R3JF2SBRHZITRZ|          5|           24|         26|   N|                N|\n",
            "| RLJN73T8WUYIR|          5|          124|        128|   N|                Y|\n",
            "| RYA9ESIATW4EC|          1|           23|         27|   N|                N|\n",
            "|R15RF9IWXWX3IH|          5|           25|         31|   N|                N|\n",
            "|R1GNMWLUMCOC6V|          5|           21|         23|   N|                N|\n",
            "|R3F5N905ZVOXES|          1|            3|         35|   N|                N|\n",
            "|R2SLKTWAJ7BR9K|          5|           33|         36|   N|                Y|\n",
            "|R1NKKJ720BC2VM|          5|           25|         28|   N|                Y|\n",
            "|R3ATNR4AESV090|          4|           38|         40|   N|                Y|\n",
            "|R36XRSNV1M0ADW|          5|           82|         95|   N|                Y|\n",
            "|R203G800OB64XF|          3|           57|         72|   N|                N|\n",
            "|R31LBT37BJZE6B|          1|           14|         20|   N|                Y|\n",
            "+--------------+-----------+-------------+-----------+----+-----------------+\n",
            "only showing top 20 rows\n",
            "\n"
          ]
        }
      ]
    },
    {
      "cell_type": "code",
      "source": [
        "helpful_vine_votes = total_vine_votes.filter(\"helpful_votes/total_votes>0.50\")\n",
        "helpful_vine_votes.show()"
      ],
      "metadata": {
        "colab": {
          "base_uri": "https://localhost:8080/"
        },
        "id": "Av4ctTjJF-TU",
        "outputId": "88854099-5f1b-4903-add2-d11eb30c3181"
      },
      "execution_count": 7,
      "outputs": [
        {
          "output_type": "stream",
          "name": "stdout",
          "text": [
            "+--------------+-----------+-------------+-----------+----+-----------------+\n",
            "|     review_id|star_rating|helpful_votes|total_votes|vine|verified_purchase|\n",
            "+--------------+-----------+-------------+-----------+----+-----------------+\n",
            "|R2984F9VD9WDJB|          1|           37|         46|   N|                Y|\n",
            "|R218TGWCIAZYNY|          5|          191|        198|   N|                Y|\n",
            "| RGC2TLSBHLPZA|          5|           49|         50|   N|                Y|\n",
            "|R2YYVOW2RYGRM8|          5|           27|         28|   N|                Y|\n",
            "|R2X4WF89XICSB2|          1|           21|         21|   N|                Y|\n",
            "|R1M1KJ4SQE4INF|          5|           20|         21|   N|                N|\n",
            "| RK8MUEWEUGV6V|          4|          105|        113|   N|                N|\n",
            "|R3JF2SBRHZITRZ|          5|           24|         26|   N|                N|\n",
            "| RLJN73T8WUYIR|          5|          124|        128|   N|                Y|\n",
            "| RYA9ESIATW4EC|          1|           23|         27|   N|                N|\n",
            "|R15RF9IWXWX3IH|          5|           25|         31|   N|                N|\n",
            "|R1GNMWLUMCOC6V|          5|           21|         23|   N|                N|\n",
            "|R2SLKTWAJ7BR9K|          5|           33|         36|   N|                Y|\n",
            "|R1NKKJ720BC2VM|          5|           25|         28|   N|                Y|\n",
            "|R3ATNR4AESV090|          4|           38|         40|   N|                Y|\n",
            "|R36XRSNV1M0ADW|          5|           82|         95|   N|                Y|\n",
            "|R203G800OB64XF|          3|           57|         72|   N|                N|\n",
            "|R31LBT37BJZE6B|          1|           14|         20|   N|                Y|\n",
            "|R119CG8XK73M2B|          5|           77|         77|   N|                Y|\n",
            "| RCOVDTGR8NH87|          5|           59|         67|   N|                N|\n",
            "+--------------+-----------+-------------+-----------+----+-----------------+\n",
            "only showing top 20 rows\n",
            "\n"
          ]
        }
      ]
    },
    {
      "cell_type": "code",
      "source": [
        "vine_voters = vine_table_df.filter(\"vine == 'Y'\")\n",
        "vine_voters.show()"
      ],
      "metadata": {
        "colab": {
          "base_uri": "https://localhost:8080/"
        },
        "id": "woWohMKVLniK",
        "outputId": "264b62c2-70e4-4224-fecc-a50c7f8eb2f1"
      },
      "execution_count": 8,
      "outputs": [
        {
          "output_type": "stream",
          "name": "stdout",
          "text": [
            "+--------------+-----------+-------------+-----------+----+-----------------+\n",
            "|     review_id|star_rating|helpful_votes|total_votes|vine|verified_purchase|\n",
            "+--------------+-----------+-------------+-----------+----+-----------------+\n",
            "|R1BIFVKMZQPGDC|          5|            8|          9|   Y|                N|\n",
            "|R35E49JZWFJDBK|          5|            1|          1|   Y|                N|\n",
            "|R2PIHINVNVGDL9|          4|            0|          0|   Y|                N|\n",
            "|R2KQ11RRU9Z5N4|          5|            0|          0|   Y|                N|\n",
            "|R2H9CLVRH00TAJ|          5|            2|          2|   Y|                N|\n",
            "|R3PCFK0001XURF|          5|            0|          0|   Y|                N|\n",
            "|R20DLO2PLAX2WM|          5|            1|          1|   Y|                N|\n",
            "|R34TE2UEOXH0LB|          4|            0|          1|   Y|                N|\n",
            "|R2ERMN4JIX94R6|          2|            0|          0|   Y|                N|\n",
            "|R2NBCQETHBBFL6|          3|            1|          2|   Y|                N|\n",
            "| R2D6J5JSP4Q8F|          5|            1|          2|   Y|                N|\n",
            "|R3REH0BKVQ5QW4|          5|            2|          2|   Y|                N|\n",
            "|R1ZJBECS4RPG7D|          5|            0|          0|   Y|                N|\n",
            "|  RYYPXUHEHY2L|          4|            7|          7|   Y|                N|\n",
            "|R1AKH68RJIAU8N|          3|            0|          0|   Y|                N|\n",
            "|R1CSNCBEJPRIOO|          3|            1|          1|   Y|                N|\n",
            "|R38TZYIPN4SXYS|          3|            4|          5|   Y|                N|\n",
            "|R3IUV8U2MLD58L|          4|            1|          2|   Y|                N|\n",
            "|R11HCFXYEQPB2X|          4|            1|          1|   Y|                N|\n",
            "|R2HCL1HX5JFV4J|          5|            1|          1|   Y|                N|\n",
            "+--------------+-----------+-------------+-----------+----+-----------------+\n",
            "only showing top 20 rows\n",
            "\n"
          ]
        }
      ]
    },
    {
      "cell_type": "code",
      "source": [
        "non_vine_voters = vine_table_df.filter(\"vine == 'N'\")\n",
        "non_vine_voters.show()"
      ],
      "metadata": {
        "colab": {
          "base_uri": "https://localhost:8080/"
        },
        "id": "Lrg6zBbzMptC",
        "outputId": "6d6820c9-a793-48b4-b477-3ee7115a0a1a"
      },
      "execution_count": 9,
      "outputs": [
        {
          "output_type": "stream",
          "name": "stdout",
          "text": [
            "+--------------+-----------+-------------+-----------+----+-----------------+\n",
            "|     review_id|star_rating|helpful_votes|total_votes|vine|verified_purchase|\n",
            "+--------------+-----------+-------------+-----------+----+-----------------+\n",
            "| R3EQSTM9PWRAL|          3|            0|          0|   N|                Y|\n",
            "| RBWPRK17XKIXD|          5|            0|          0|   N|                Y|\n",
            "| RRSLOAF273XFC|          5|            1|          2|   N|                Y|\n",
            "|R3S8W9Q6SWIT8O|          4|            0|          0|   N|                Y|\n",
            "|R3QQ6NSLRVBFJC|          4|            0|          0|   N|                Y|\n",
            "|R2XYDBMHUVJCSX|          2|            0|          1|   N|                Y|\n",
            "|R1L94ESVC657A9|          5|            0|          0|   N|                Y|\n",
            "|R3DI4B8LDWFQ3K|          1|            3|          4|   N|                Y|\n",
            "|R1G7VV4HCXUQQL|          5|            0|          0|   N|                Y|\n",
            "|R3TTNYN1TAMUSU|          5|            0|          0|   N|                Y|\n",
            "|R3AMX2D9HMWV6Z|          5|            0|          0|   N|                Y|\n",
            "|R3PO3K321GY8HI|          1|            0|          0|   N|                Y|\n",
            "| RVQ0UNYX6IEVK|          1|            0|          1|   N|                Y|\n",
            "|R25E9NIGO2XQ3D|          5|            0|          0|   N|                Y|\n",
            "|R3GIEXIIIR2G9Y|          1|            0|          0|   N|                Y|\n",
            "|R264BH3U417NXF|          5|            0|          0|   N|                Y|\n",
            "|R2C6S0XJIMP0Z2|          5|            0|          0|   N|                Y|\n",
            "|R2LRJYGC2YYR2F|          2|            0|          0|   N|                Y|\n",
            "|R3SVW9ZP1CZPW7|          1|            0|          1|   N|                Y|\n",
            "|R1GLA6RQUF4Q79|          4|            0|          0|   N|                Y|\n",
            "+--------------+-----------+-------------+-----------+----+-----------------+\n",
            "only showing top 20 rows\n",
            "\n"
          ]
        }
      ]
    },
    {
      "cell_type": "code",
      "source": [
        "total_vine_reviews = vine_voters.count()\n",
        "fivestar_vine_reviews = vine_voters.filter(\"star_rating == 5\").count()\n",
        "fivestar_percentage = 100*(fivestar_vine_reviews/total_vine_reviews)\n",
        "print(f\"Total vine user reviews: {total_vine_reviews}.\")\n",
        "print(f\"All 5 star vine user reviews: {fivestar_vine_reviews}.\")\n",
        "print(f\"The percentage of 5 star reviews from vine users: {fivestar_percentage: .2f}%.\")"
      ],
      "metadata": {
        "colab": {
          "base_uri": "https://localhost:8080/"
        },
        "id": "8reCNq8d0bxr",
        "outputId": "121428b2-4782-4859-e8f2-4db8892355d7"
      },
      "execution_count": 18,
      "outputs": [
        {
          "output_type": "stream",
          "name": "stdout",
          "text": [
            "Total vine user reviews: 32026.\n",
            "All 5 star vine user reviews: 13127.\n",
            "The percentage of 5 star reviews from vine users:  40.99%.\n"
          ]
        }
      ]
    },
    {
      "cell_type": "code",
      "source": [
        "total_non_vine_reviews = non_vine_voters.count()\n",
        "fivestar_non_vine_reviews = non_vine_voters.filter(\"star_rating == 5\").count()\n",
        "fivestar_percentage_non = 100*(fivestar_non_vine_reviews/total_non_vine_reviews)\n",
        "print(f\"Total non-vine user reviews: {total_non_vine_reviews}.\")\n",
        "print(f\"All 5 star non-vine user reviews: {fivestar_non_vine_reviews}.\")\n",
        "print(f\"The percentage of 5 star reviews from non-vine users: {fivestar_percentage_non: .2f}%.\")"
      ],
      "metadata": {
        "colab": {
          "base_uri": "https://localhost:8080/"
        },
        "id": "tKETNr_u6bdn",
        "outputId": "7df267c0-6eb9-4862-e5e9-88be9d7cd6e2"
      },
      "execution_count": 15,
      "outputs": [
        {
          "output_type": "stream",
          "name": "stdout",
          "text": [
            "Total non-vine user reviews: 5299189.\n",
            "All 5 star non-vine user reviews: 3344959.\n",
            "The percentage of 5 star reviews from non-vine users:  63.12%.\n"
          ]
        }
      ]
    }
  ]
}